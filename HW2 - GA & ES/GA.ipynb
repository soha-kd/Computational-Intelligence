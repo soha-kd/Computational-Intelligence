{
 "cells": [
  {
   "cell_type": "markdown",
   "metadata": {},
   "source": [
    "## Genetic algorithm\n",
    "\n",
    "Answere of Question 1"
   ]
  },
  {
   "cell_type": "code",
   "execution_count": 9,
   "metadata": {},
   "outputs": [],
   "source": [
    "from numpy.random import randint, rand, choice\n",
    "from random import choices\n"
   ]
  },
  {
   "attachments": {},
   "cell_type": "markdown",
   "metadata": {},
   "source": [
    "__fitness function__"
   ]
  },
  {
   "cell_type": "code",
   "execution_count": 10,
   "metadata": {},
   "outputs": [],
   "source": [
    "# F(x) = -x^2 + 6x\n",
    "def fx(individual):\n",
    "    return (-1 * individual ** 2 + 6 * individual)"
   ]
  },
  {
   "attachments": {},
   "cell_type": "markdown",
   "metadata": {},
   "source": [
    "__parent selection__\n"
   ]
  },
  {
   "cell_type": "code",
   "execution_count": 11,
   "metadata": {},
   "outputs": [],
   "source": [
    "def selection(population, score):\n",
    "    returnlist = []\n",
    "    counter = len(population)\n",
    "    \n",
    "    # total fitness\n",
    "    population_fitness = sum(score)\n",
    "    \n",
    "    # probability of chromosome \n",
    "    try:\n",
    "        chromosome_probabilities = list([fitness/population_fitness for fitness in score])\n",
    "    except ZeroDivisionError:\n",
    "        population_fitness = 1\n",
    "        chromosome_probabilities = list([fitness/population_fitness for fitness in score])\n",
    "\n",
    "    for i in range(counter):\n",
    "        value = choices(population, weights = chromosome_probabilities, k = 1)\n",
    "        returnlist.append(value)\n",
    "\n",
    "    # Selects two chromosome based on probabilities\n",
    "    return returnlist"
   ]
  },
  {
   "attachments": {},
   "cell_type": "markdown",
   "metadata": {},
   "source": [
    "__Crossover__\n",
    "\n",
    "    1-Point Crossover\n",
    "    Uniform Crossover"
   ]
  },
  {
   "cell_type": "code",
   "execution_count": 12,
   "metadata": {},
   "outputs": [],
   "source": [
    "def crossover(child1, child2, change_prob, crossover_kind = 1):\n",
    "    \n",
    "    onepointcrossover = False\n",
    "    uniformcrossover = False\n",
    "    if crossover_kind == 1:\n",
    "        onepointcrossover = True\n",
    "        uniformcrossover = False\n",
    "    elif crossover_kind == 2:\n",
    "        uniformcrossover = True\n",
    "        onepointcrossover = False\n",
    "    \n",
    "    # probability of crossover\n",
    "    if rand() < change_prob:\n",
    "        if onepointcrossover:\n",
    "            crossover_point = randint(1, 5)\n",
    "            child1 = child1[:crossover_point] + child2[crossover_point:]\n",
    "            child2 = child2[:crossover_point] + child1[crossover_point:]\n",
    "        \n",
    "        elif uniformcrossover:\n",
    "            for i in range(len(child1)):\n",
    "                if rand() < change_prob:\n",
    "                    child1[i], child2[i] = child2[i], child1[i]\n",
    "                else:\n",
    "                    pass\n",
    "    else:\n",
    "        pass\n",
    "\n",
    "    return [child1, child2]"
   ]
  },
  {
   "attachments": {},
   "cell_type": "markdown",
   "metadata": {},
   "source": [
    "__Mutation__\n"
   ]
  },
  {
   "cell_type": "code",
   "execution_count": 13,
   "metadata": {},
   "outputs": [],
   "source": [
    "def mutation(child, change_prob):\n",
    "    for i in range(len(child)):\n",
    "        if rand() < change_prob:\n",
    "            child[i] = 1 - child[i]\n",
    "        else:\n",
    "            pass\n",
    "    return child"
   ]
  },
  {
   "attachments": {},
   "cell_type": "markdown",
   "metadata": {},
   "source": [
    "__GA__"
   ]
  },
  {
   "cell_type": "code",
   "execution_count": 14,
   "metadata": {},
   "outputs": [],
   "source": [
    "def genetic_algorithm(fx, number_of_binary, number_of_population, crossover_probab, crossover_kind, mutation_probab, loopnumber):\n",
    "    \n",
    "    binary_number = {(0, 0, 0, 0, 0) : 0, \n",
    "                 (0, 0, 0, 0, 1) : 1, \n",
    "                 (0, 0, 0, 1, 0) : 2, \n",
    "                 (0, 0, 0, 1, 1) : 3, \n",
    "                 (0, 0, 1, 0, 0) : 4, \n",
    "                 (0, 0, 1, 0, 1) : 5, \n",
    "                 (0, 0, 1, 1, 0) : 6, \n",
    "                 (0, 0, 1, 1, 1) : 7,\n",
    "                 (0, 1, 0, 0, 0) : 8, \n",
    "                 (0, 1, 0, 0, 1) : 9, \n",
    "                 (0, 1, 0, 1, 0) : 10, \n",
    "                 (0, 1, 0, 1, 1) : 11, \n",
    "                 (0, 1, 1, 0, 0) : 12, \n",
    "                 (0, 1, 1, 0, 1) : 13, \n",
    "                 (0, 1, 1, 1, 0) : 14, \n",
    "                 (0, 1, 1, 1, 1) : 15, \n",
    "                 (1, 0, 0, 0, 0) : 16, \n",
    "                 (1, 0, 0, 0, 1) : 17, \n",
    "                 (1, 0, 0, 1, 0) : 18, \n",
    "                 (1, 0, 0, 1, 1) : 19, \n",
    "                 (1, 0, 1, 0, 0) : 20, \n",
    "                 (1, 0, 1, 0, 1) : 21, \n",
    "                 (1, 0, 1, 1, 0) : 22, \n",
    "                 (1, 0, 1, 1, 1) : 23, \n",
    "                 (1, 1, 0, 0, 0) : 24, \n",
    "                 (1, 1, 0, 0, 1) : 25, \n",
    "                 (1, 1, 0, 1, 0) : 26, \n",
    "                 (1, 1, 0, 1, 1) : 27, \n",
    "                 (1, 1, 1, 0, 0) : 28, \n",
    "                 (1, 1, 1, 0, 1) : 29, \n",
    "                 (1, 1, 1, 1, 0) : 30, \n",
    "                 (1, 1, 1, 1, 1) : 31, \n",
    "                }\n",
    "\n",
    "    # selecting < number_of_population > as mating pool with the < number_of_binary > for < loopnumber >\n",
    "    matingpool = [randint(0, 2, number_of_binary).tolist() for i in range(number_of_population)]\n",
    "    \n",
    "    print('This is our random population \\n', matingpool, '\\n')\n",
    "\n",
    "    # defining the first number as the best fitness number\n",
    "    bestbin, bestint, best_score = tuple(matingpool[0]), binary_number[tuple(matingpool[0])], fx(binary_number[tuple(matingpool[0])]) \n",
    "    \n",
    "    \n",
    "    # ------------------------ MAIN -------------------------\n",
    "    \n",
    "    # this determines how many times best score reapeated \n",
    "    times = 0\n",
    "    for j in range(loopnumber):\n",
    "    \n",
    "        # list of all scores for every individual\n",
    "        all_matingpool_scores = [fx(binary_number[tuple(matingpool[i])]) for i in range(len(matingpool))]\n",
    "        \n",
    "        # computing best score\n",
    "        for i in range(len(matingpool)):\n",
    "            if all_matingpool_scores[i] == best_score:\n",
    "                    times += 1\n",
    "            elif all_matingpool_scores[i] > best_score:\n",
    "                bestbin, bestint, best_score = tuple(matingpool[i]), binary_number[tuple(matingpool[i])], all_matingpool_scores[i]\n",
    "            else: pass\n",
    "\n",
    "            if times == 5:\n",
    "                return \"Best Score is reapeating, End of algorithm\"\n",
    "\n",
    "        print('\\n\\n', 'Round:  ', j+1)\n",
    "        print('New best individual till here ==> ', bestbin, bestint, best_score, '\\n')\n",
    "        \n",
    "        \n",
    "        # we select the best parent from the mating pool\n",
    "        parents = selection(matingpool, all_matingpool_scores)\n",
    "\n",
    "        new_parent = []\n",
    "        for i in range(len(parents)):\n",
    "            new_parent.append(parents[i][0])\n",
    "        print('This is our selection parent and must be then crossover and mutation: \\n', new_parent, '\\n')\n",
    "        \n",
    "\n",
    "        evolutioned_population = []\n",
    "\n",
    "        if len(new_parent) % 2 == 1:\n",
    "            for i in range(0, len(new_parent)-1, 2):\n",
    "                par1 = new_parent[i]\n",
    "                par2 = new_parent[i+1]\n",
    "\n",
    "                for child in crossover(par1, par2, crossover_probab, crossover_kind):\n",
    "                    evolutioned_population.append(mutation(child, mutation_probab))\n",
    "\n",
    "            par1 = new_parent[-1]\n",
    "            par2 = new_parent[randint(1, len(new_parent))]\n",
    "            for child in crossover(par1, par2, crossover_probab, crossover_kind):\n",
    "                evolutioned_population.append(mutation(child, mutation_probab))\n",
    "                \n",
    "        else:\n",
    "            for i in range(0, len(new_parent), 2):\n",
    "                par1 = new_parent[i]\n",
    "                par2 = new_parent[i+1]\n",
    "\n",
    "                for child in crossover(par1, par2, crossover_probab, crossover_kind):\n",
    "                    evolutioned_population.append(mutation(child, mutation_probab))\n",
    "   \n",
    "        matingpool = evolutioned_population\n",
    "        \n",
    "        print('This is evolutioned_population after ALGORITHM WORKED', evolutioned_population, '\\n')\n",
    "        print('This is mating pool after changing it to the new mating pool (new children as mating pool)', matingpool, '\\n')    \n",
    "    return(\"Loop Finished successfully\")\n",
    "    # ------------------------ MAIN -------------------------"
   ]
  },
  {
   "attachments": {},
   "cell_type": "markdown",
   "metadata": {},
   "source": [
    "__Get inputs__ "
   ]
  },
  {
   "cell_type": "code",
   "execution_count": 16,
   "metadata": {},
   "outputs": [
    {
     "name": "stdout",
     "output_type": "stream",
     "text": [
      "This is our random population \n",
      " [[0, 0, 0, 1, 1], [1, 1, 1, 0, 1], [0, 1, 0, 1, 1], [1, 1, 1, 1, 1], [0, 0, 1, 1, 1], [0, 1, 1, 0, 0], [0, 0, 0, 1, 0], [0, 1, 0, 0, 1]] \n",
      "\n",
      "\n",
      "\n",
      " Round:   1\n",
      "New best individual till here ==>  (0, 0, 0, 1, 1) 3 9 \n",
      "\n",
      "This is our selection parent and must be then crossover and mutation: \n",
      " [[1, 1, 1, 1, 1], [1, 1, 1, 1, 1], [1, 1, 1, 0, 1], [1, 1, 1, 1, 1], [1, 1, 1, 0, 1], [1, 1, 1, 1, 1], [1, 1, 1, 1, 1], [1, 1, 1, 0, 1]] \n",
      "\n",
      "This is evolutioned_population after ALGORITHM WORKED [[1, 1, 0, 0, 1], [1, 1, 0, 0, 1], [0, 0, 1, 0, 1], [1, 1, 0, 0, 1], [0, 0, 1, 0, 1], [1, 1, 0, 0, 1], [1, 1, 0, 0, 1], [0, 0, 1, 0, 1]] \n",
      "\n",
      "This is mating pool after changing it to the new mating pool (new children as mating pool) [[1, 1, 0, 0, 1], [1, 1, 0, 0, 1], [0, 0, 1, 0, 1], [1, 1, 0, 0, 1], [0, 0, 1, 0, 1], [1, 1, 0, 0, 1], [1, 1, 0, 0, 1], [0, 0, 1, 0, 1]] \n",
      "\n",
      "\n",
      "\n",
      " Round:   2\n",
      "New best individual till here ==>  (0, 0, 0, 1, 1) 3 9 \n",
      "\n",
      "This is our selection parent and must be then crossover and mutation: \n",
      " [[1, 1, 0, 0, 1], [1, 1, 0, 0, 1], [1, 1, 0, 0, 1], [1, 1, 0, 0, 1], [1, 1, 0, 0, 1], [1, 1, 0, 0, 1], [1, 1, 0, 0, 1], [1, 1, 0, 0, 1]] \n",
      "\n",
      "This is evolutioned_population after ALGORITHM WORKED [[0, 1, 0, 1, 1], [0, 1, 0, 1, 1], [0, 1, 0, 1, 1], [0, 1, 0, 1, 1], [0, 1, 0, 1, 1], [0, 1, 0, 1, 1], [0, 1, 0, 1, 1], [0, 1, 0, 1, 1]] \n",
      "\n",
      "This is mating pool after changing it to the new mating pool (new children as mating pool) [[0, 1, 0, 1, 1], [0, 1, 0, 1, 1], [0, 1, 0, 1, 1], [0, 1, 0, 1, 1], [0, 1, 0, 1, 1], [0, 1, 0, 1, 1], [0, 1, 0, 1, 1], [0, 1, 0, 1, 1]] \n",
      "\n",
      "\n",
      "\n",
      " Round:   3\n",
      "New best individual till here ==>  (0, 0, 0, 1, 1) 3 9 \n",
      "\n",
      "This is our selection parent and must be then crossover and mutation: \n",
      " [[0, 1, 0, 1, 1], [0, 1, 0, 1, 1], [0, 1, 0, 1, 1], [0, 1, 0, 1, 1], [0, 1, 0, 1, 1], [0, 1, 0, 1, 1], [0, 1, 0, 1, 1], [0, 1, 0, 1, 1]] \n",
      "\n",
      "This is evolutioned_population after ALGORITHM WORKED [[0, 1, 0, 1, 0], [0, 1, 0, 1, 0], [0, 1, 0, 1, 0], [0, 1, 0, 1, 0], [0, 1, 0, 1, 0], [0, 1, 0, 1, 0], [0, 1, 0, 1, 0], [0, 1, 0, 1, 0]] \n",
      "\n",
      "This is mating pool after changing it to the new mating pool (new children as mating pool) [[0, 1, 0, 1, 0], [0, 1, 0, 1, 0], [0, 1, 0, 1, 0], [0, 1, 0, 1, 0], [0, 1, 0, 1, 0], [0, 1, 0, 1, 0], [0, 1, 0, 1, 0], [0, 1, 0, 1, 0]] \n",
      "\n",
      "\n",
      "\n",
      " Round:   4\n",
      "New best individual till here ==>  (0, 0, 0, 1, 1) 3 9 \n",
      "\n",
      "This is our selection parent and must be then crossover and mutation: \n",
      " [[0, 1, 0, 1, 0], [0, 1, 0, 1, 0], [0, 1, 0, 1, 0], [0, 1, 0, 1, 0], [0, 1, 0, 1, 0], [0, 1, 0, 1, 0], [0, 1, 0, 1, 0], [0, 1, 0, 1, 0]] \n",
      "\n",
      "This is evolutioned_population after ALGORITHM WORKED [[1, 1, 0, 1, 1], [1, 1, 0, 1, 1], [1, 1, 0, 1, 1], [1, 1, 0, 1, 1], [1, 1, 0, 1, 1], [1, 1, 0, 1, 1], [1, 1, 0, 1, 1], [1, 1, 0, 1, 1]] \n",
      "\n",
      "This is mating pool after changing it to the new mating pool (new children as mating pool) [[1, 1, 0, 1, 1], [1, 1, 0, 1, 1], [1, 1, 0, 1, 1], [1, 1, 0, 1, 1], [1, 1, 0, 1, 1], [1, 1, 0, 1, 1], [1, 1, 0, 1, 1], [1, 1, 0, 1, 1]] \n",
      "\n",
      "\n",
      "\n",
      " Round:   5\n",
      "New best individual till here ==>  (0, 0, 0, 1, 1) 3 9 \n",
      "\n",
      "This is our selection parent and must be then crossover and mutation: \n",
      " [[1, 1, 0, 1, 1], [1, 1, 0, 1, 1], [1, 1, 0, 1, 1], [1, 1, 0, 1, 1], [1, 1, 0, 1, 1], [1, 1, 0, 1, 1], [1, 1, 0, 1, 1], [1, 1, 0, 1, 1]] \n",
      "\n",
      "This is evolutioned_population after ALGORITHM WORKED [[1, 1, 0, 0, 1], [1, 1, 0, 0, 1], [1, 1, 0, 0, 1], [1, 1, 0, 0, 1], [1, 1, 0, 0, 1], [1, 1, 0, 0, 1], [1, 1, 0, 0, 1], [1, 1, 0, 0, 1]] \n",
      "\n",
      "This is mating pool after changing it to the new mating pool (new children as mating pool) [[1, 1, 0, 0, 1], [1, 1, 0, 0, 1], [1, 1, 0, 0, 1], [1, 1, 0, 0, 1], [1, 1, 0, 0, 1], [1, 1, 0, 0, 1], [1, 1, 0, 0, 1], [1, 1, 0, 0, 1]] \n",
      "\n",
      "Loop Finished successfully\n"
     ]
    }
   ],
   "source": [
    "number_of_binary = 5\n",
    "number_of_population = int(input(\"Enter number of population[0,30]: \"))\n",
    "crossover_probab = float(input(\"Enter crossover probability [0,1]: \"))\n",
    "crossover_kind = int(input(\"crossover type \\nEnter 1 for 1point or Enter 2 for uniform : \"))\n",
    "mutation_probab = float(input(\"Enter Mutation probability [0,1]: \"))\n",
    "loopnumber = int(input(\"Algorithm iteration: \"))\n",
    "\n",
    "print(genetic_algorithm(fx, number_of_binary, number_of_population, crossover_probab, crossover_kind, mutation_probab, loopnumber))"
   ]
  },
  {
   "cell_type": "markdown",
   "metadata": {},
   "source": []
  }
 ],
 "metadata": {
  "kernelspec": {
   "display_name": ".venv",
   "language": "python",
   "name": "python3"
  },
  "language_info": {
   "codemirror_mode": {
    "name": "ipython",
    "version": 3
   },
   "file_extension": ".py",
   "mimetype": "text/x-python",
   "name": "python",
   "nbconvert_exporter": "python",
   "pygments_lexer": "ipython3",
   "version": "3.11.1"
  },
  "vscode": {
   "interpreter": {
    "hash": "c07a55e3f78e8d25afb490bb072ad409d2a1030f876333351bbccb282164c9ca"
   }
  }
 },
 "nbformat": 4,
 "nbformat_minor": 4
}
